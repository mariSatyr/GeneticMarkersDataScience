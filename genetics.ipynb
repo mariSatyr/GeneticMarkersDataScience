{
 "cells": [
  {
   "cell_type": "code",
   "execution_count": 13,
   "metadata": {},
   "outputs": [],
   "source": [
    "import matplotlib\n",
    "import pandas as pd\n",
    "import seaborn as sns\n",
    "import numpy\n",
    "from sklearn.metrics import classification_report\n",
    "from sklearn.metrics import confusion_matrix\n",
    "from sklearn.model_selection import train_test_split\n",
    "from sklearn.neighbors import KNeighborsClassifier"
   ]
  },
  {
   "cell_type": "code",
   "execution_count": 14,
   "metadata": {},
   "outputs": [],
   "source": [
    "df_GATC = pd.read_csv(r'train.csv')"
   ]
  },
  {
   "cell_type": "code",
   "execution_count": 15,
   "metadata": {},
   "outputs": [
    {
     "data": {
      "text/html": [
       "<div>\n",
       "<style scoped>\n",
       "    .dataframe tbody tr th:only-of-type {\n",
       "        vertical-align: middle;\n",
       "    }\n",
       "\n",
       "    .dataframe tbody tr th {\n",
       "        vertical-align: top;\n",
       "    }\n",
       "\n",
       "    .dataframe thead th {\n",
       "        text-align: right;\n",
       "    }\n",
       "</style>\n",
       "<table border=\"1\" class=\"dataframe\">\n",
       "  <thead>\n",
       "    <tr style=\"text-align: right;\">\n",
       "      <th></th>\n",
       "      <th>row_id</th>\n",
       "      <th>A0T0G0C10</th>\n",
       "      <th>A0T0G1C9</th>\n",
       "      <th>A0T0G2C8</th>\n",
       "      <th>A0T0G3C7</th>\n",
       "      <th>A0T0G4C6</th>\n",
       "      <th>A0T0G5C5</th>\n",
       "      <th>A0T0G6C4</th>\n",
       "      <th>A0T0G7C3</th>\n",
       "      <th>A0T0G8C2</th>\n",
       "      <th>...</th>\n",
       "      <th>A8T0G1C1</th>\n",
       "      <th>A8T0G2C0</th>\n",
       "      <th>A8T1G0C1</th>\n",
       "      <th>A8T1G1C0</th>\n",
       "      <th>A8T2G0C0</th>\n",
       "      <th>A9T0G0C1</th>\n",
       "      <th>A9T0G1C0</th>\n",
       "      <th>A9T1G0C0</th>\n",
       "      <th>A10T0G0C0</th>\n",
       "      <th>target</th>\n",
       "    </tr>\n",
       "  </thead>\n",
       "  <tbody>\n",
       "    <tr>\n",
       "      <th>0</th>\n",
       "      <td>0</td>\n",
       "      <td>-9.536743e-07</td>\n",
       "      <td>-0.000010</td>\n",
       "      <td>-0.000043</td>\n",
       "      <td>-0.000114</td>\n",
       "      <td>-0.000200</td>\n",
       "      <td>-0.000240</td>\n",
       "      <td>-0.000200</td>\n",
       "      <td>-0.000114</td>\n",
       "      <td>-0.000043</td>\n",
       "      <td>...</td>\n",
       "      <td>-0.000086</td>\n",
       "      <td>-0.000043</td>\n",
       "      <td>-0.000086</td>\n",
       "      <td>-0.000086</td>\n",
       "      <td>-0.000043</td>\n",
       "      <td>-0.000010</td>\n",
       "      <td>-0.000010</td>\n",
       "      <td>-0.000010</td>\n",
       "      <td>-9.536743e-07</td>\n",
       "      <td>Streptococcus_pyogenes</td>\n",
       "    </tr>\n",
       "    <tr>\n",
       "      <th>1</th>\n",
       "      <td>1</td>\n",
       "      <td>-9.536743e-07</td>\n",
       "      <td>-0.000010</td>\n",
       "      <td>-0.000043</td>\n",
       "      <td>0.000886</td>\n",
       "      <td>-0.000200</td>\n",
       "      <td>0.000760</td>\n",
       "      <td>-0.000200</td>\n",
       "      <td>-0.000114</td>\n",
       "      <td>-0.000043</td>\n",
       "      <td>...</td>\n",
       "      <td>-0.000086</td>\n",
       "      <td>-0.000043</td>\n",
       "      <td>0.000914</td>\n",
       "      <td>0.000914</td>\n",
       "      <td>-0.000043</td>\n",
       "      <td>-0.000010</td>\n",
       "      <td>-0.000010</td>\n",
       "      <td>-0.000010</td>\n",
       "      <td>-9.536743e-07</td>\n",
       "      <td>Salmonella_enterica</td>\n",
       "    </tr>\n",
       "    <tr>\n",
       "      <th>2</th>\n",
       "      <td>2</td>\n",
       "      <td>-9.536743e-07</td>\n",
       "      <td>-0.000002</td>\n",
       "      <td>0.000007</td>\n",
       "      <td>0.000129</td>\n",
       "      <td>0.000268</td>\n",
       "      <td>0.000270</td>\n",
       "      <td>0.000243</td>\n",
       "      <td>0.000125</td>\n",
       "      <td>0.000001</td>\n",
       "      <td>...</td>\n",
       "      <td>0.000084</td>\n",
       "      <td>0.000048</td>\n",
       "      <td>0.000081</td>\n",
       "      <td>0.000106</td>\n",
       "      <td>0.000072</td>\n",
       "      <td>0.000010</td>\n",
       "      <td>0.000008</td>\n",
       "      <td>0.000019</td>\n",
       "      <td>1.046326e-06</td>\n",
       "      <td>Salmonella_enterica</td>\n",
       "    </tr>\n",
       "    <tr>\n",
       "      <th>3</th>\n",
       "      <td>3</td>\n",
       "      <td>4.632568e-08</td>\n",
       "      <td>-0.000006</td>\n",
       "      <td>0.000012</td>\n",
       "      <td>0.000245</td>\n",
       "      <td>0.000492</td>\n",
       "      <td>0.000522</td>\n",
       "      <td>0.000396</td>\n",
       "      <td>0.000197</td>\n",
       "      <td>-0.000003</td>\n",
       "      <td>...</td>\n",
       "      <td>0.000151</td>\n",
       "      <td>0.000100</td>\n",
       "      <td>0.000180</td>\n",
       "      <td>0.000202</td>\n",
       "      <td>0.000153</td>\n",
       "      <td>0.000021</td>\n",
       "      <td>0.000015</td>\n",
       "      <td>0.000046</td>\n",
       "      <td>-9.536743e-07</td>\n",
       "      <td>Salmonella_enterica</td>\n",
       "    </tr>\n",
       "    <tr>\n",
       "      <th>4</th>\n",
       "      <td>4</td>\n",
       "      <td>-9.536743e-07</td>\n",
       "      <td>-0.000010</td>\n",
       "      <td>-0.000043</td>\n",
       "      <td>-0.000114</td>\n",
       "      <td>-0.000200</td>\n",
       "      <td>-0.000240</td>\n",
       "      <td>-0.000200</td>\n",
       "      <td>-0.000114</td>\n",
       "      <td>-0.000043</td>\n",
       "      <td>...</td>\n",
       "      <td>-0.000086</td>\n",
       "      <td>-0.000043</td>\n",
       "      <td>-0.000086</td>\n",
       "      <td>-0.000086</td>\n",
       "      <td>-0.000043</td>\n",
       "      <td>-0.000010</td>\n",
       "      <td>-0.000010</td>\n",
       "      <td>-0.000010</td>\n",
       "      <td>-9.536743e-07</td>\n",
       "      <td>Enterococcus_hirae</td>\n",
       "    </tr>\n",
       "  </tbody>\n",
       "</table>\n",
       "<p>5 rows × 288 columns</p>\n",
       "</div>"
      ],
      "text/plain": [
       "   row_id     A0T0G0C10  A0T0G1C9  A0T0G2C8  A0T0G3C7  A0T0G4C6  A0T0G5C5  \\\n",
       "0       0 -9.536743e-07 -0.000010 -0.000043 -0.000114 -0.000200 -0.000240   \n",
       "1       1 -9.536743e-07 -0.000010 -0.000043  0.000886 -0.000200  0.000760   \n",
       "2       2 -9.536743e-07 -0.000002  0.000007  0.000129  0.000268  0.000270   \n",
       "3       3  4.632568e-08 -0.000006  0.000012  0.000245  0.000492  0.000522   \n",
       "4       4 -9.536743e-07 -0.000010 -0.000043 -0.000114 -0.000200 -0.000240   \n",
       "\n",
       "   A0T0G6C4  A0T0G7C3  A0T0G8C2  ...  A8T0G1C1  A8T0G2C0  A8T1G0C1  A8T1G1C0  \\\n",
       "0 -0.000200 -0.000114 -0.000043  ... -0.000086 -0.000043 -0.000086 -0.000086   \n",
       "1 -0.000200 -0.000114 -0.000043  ... -0.000086 -0.000043  0.000914  0.000914   \n",
       "2  0.000243  0.000125  0.000001  ...  0.000084  0.000048  0.000081  0.000106   \n",
       "3  0.000396  0.000197 -0.000003  ...  0.000151  0.000100  0.000180  0.000202   \n",
       "4 -0.000200 -0.000114 -0.000043  ... -0.000086 -0.000043 -0.000086 -0.000086   \n",
       "\n",
       "   A8T2G0C0  A9T0G0C1  A9T0G1C0  A9T1G0C0     A10T0G0C0  \\\n",
       "0 -0.000043 -0.000010 -0.000010 -0.000010 -9.536743e-07   \n",
       "1 -0.000043 -0.000010 -0.000010 -0.000010 -9.536743e-07   \n",
       "2  0.000072  0.000010  0.000008  0.000019  1.046326e-06   \n",
       "3  0.000153  0.000021  0.000015  0.000046 -9.536743e-07   \n",
       "4 -0.000043 -0.000010 -0.000010 -0.000010 -9.536743e-07   \n",
       "\n",
       "                   target  \n",
       "0  Streptococcus_pyogenes  \n",
       "1     Salmonella_enterica  \n",
       "2     Salmonella_enterica  \n",
       "3     Salmonella_enterica  \n",
       "4      Enterococcus_hirae  \n",
       "\n",
       "[5 rows x 288 columns]"
      ]
     },
     "execution_count": 15,
     "metadata": {},
     "output_type": "execute_result"
    }
   ],
   "source": [
    "df_GATC.head()"
   ]
  },
  {
   "cell_type": "code",
   "execution_count": 16,
   "metadata": {},
   "outputs": [
    {
     "data": {
      "text/plain": [
       "(200000, 288)"
      ]
     },
     "execution_count": 16,
     "metadata": {},
     "output_type": "execute_result"
    }
   ],
   "source": [
    "df_GATC.shape"
   ]
  },
  {
   "cell_type": "code",
   "execution_count": 17,
   "metadata": {},
   "outputs": [
    {
     "data": {
      "text/plain": [
       "array(['row_id', 'A0T0G0C10', 'A0T0G1C9', 'A0T0G2C8', 'A0T0G3C7',\n",
       "       'A0T0G4C6', 'A0T0G5C5', 'A0T0G6C4', 'A0T0G7C3', 'A0T0G8C2',\n",
       "       'A0T0G9C1', 'A0T0G10C0', 'A0T1G0C9', 'A0T1G1C8', 'A0T1G2C7',\n",
       "       'A0T1G3C6', 'A0T1G4C5', 'A0T1G5C4', 'A0T1G6C3', 'A0T1G7C2',\n",
       "       'A0T1G8C1', 'A0T1G9C0', 'A0T2G0C8', 'A0T2G1C7', 'A0T2G2C6',\n",
       "       'A0T2G3C5', 'A0T2G4C4', 'A0T2G5C3', 'A0T2G6C2', 'A0T2G7C1',\n",
       "       'A0T2G8C0', 'A0T3G0C7', 'A0T3G1C6', 'A0T3G2C5', 'A0T3G3C4',\n",
       "       'A0T3G4C3', 'A0T3G5C2', 'A0T3G6C1', 'A0T3G7C0', 'A0T4G0C6',\n",
       "       'A0T4G1C5', 'A0T4G2C4', 'A0T4G3C3', 'A0T4G4C2', 'A0T4G5C1',\n",
       "       'A0T4G6C0', 'A0T5G0C5', 'A0T5G1C4', 'A0T5G2C3', 'A0T5G3C2',\n",
       "       'A0T5G4C1', 'A0T5G5C0', 'A0T6G0C4', 'A0T6G1C3', 'A0T6G2C2',\n",
       "       'A0T6G3C1', 'A0T6G4C0', 'A0T7G0C3', 'A0T7G1C2', 'A0T7G2C1',\n",
       "       'A0T7G3C0', 'A0T8G0C2', 'A0T8G1C1', 'A0T8G2C0', 'A0T9G0C1',\n",
       "       'A0T9G1C0', 'A0T10G0C0', 'A1T0G0C9', 'A1T0G1C8', 'A1T0G2C7',\n",
       "       'A1T0G3C6', 'A1T0G4C5', 'A1T0G5C4', 'A1T0G6C3', 'A1T0G7C2',\n",
       "       'A1T0G8C1', 'A1T0G9C0', 'A1T1G0C8', 'A1T1G1C7', 'A1T1G2C6',\n",
       "       'A1T1G3C5', 'A1T1G4C4', 'A1T1G5C3', 'A1T1G6C2', 'A1T1G7C1',\n",
       "       'A1T1G8C0', 'A1T2G0C7', 'A1T2G1C6', 'A1T2G2C5', 'A1T2G3C4',\n",
       "       'A1T2G4C3', 'A1T2G5C2', 'A1T2G6C1', 'A1T2G7C0', 'A1T3G0C6',\n",
       "       'A1T3G1C5', 'A1T3G2C4', 'A1T3G3C3', 'A1T3G4C2', 'A1T3G5C1',\n",
       "       'A1T3G6C0', 'A1T4G0C5', 'A1T4G1C4', 'A1T4G2C3', 'A1T4G3C2',\n",
       "       'A1T4G4C1', 'A1T4G5C0', 'A1T5G0C4', 'A1T5G1C3', 'A1T5G2C2',\n",
       "       'A1T5G3C1', 'A1T5G4C0', 'A1T6G0C3', 'A1T6G1C2', 'A1T6G2C1',\n",
       "       'A1T6G3C0', 'A1T7G0C2', 'A1T7G1C1', 'A1T7G2C0', 'A1T8G0C1',\n",
       "       'A1T8G1C0', 'A1T9G0C0', 'A2T0G0C8', 'A2T0G1C7', 'A2T0G2C6',\n",
       "       'A2T0G3C5', 'A2T0G4C4', 'A2T0G5C3', 'A2T0G6C2', 'A2T0G7C1',\n",
       "       'A2T0G8C0', 'A2T1G0C7', 'A2T1G1C6', 'A2T1G2C5', 'A2T1G3C4',\n",
       "       'A2T1G4C3', 'A2T1G5C2', 'A2T1G6C1', 'A2T1G7C0', 'A2T2G0C6',\n",
       "       'A2T2G1C5', 'A2T2G2C4', 'A2T2G3C3', 'A2T2G4C2', 'A2T2G5C1',\n",
       "       'A2T2G6C0', 'A2T3G0C5', 'A2T3G1C4', 'A2T3G2C3', 'A2T3G3C2',\n",
       "       'A2T3G4C1', 'A2T3G5C0', 'A2T4G0C4', 'A2T4G1C3', 'A2T4G2C2',\n",
       "       'A2T4G3C1', 'A2T4G4C0', 'A2T5G0C3', 'A2T5G1C2', 'A2T5G2C1',\n",
       "       'A2T5G3C0', 'A2T6G0C2', 'A2T6G1C1', 'A2T6G2C0', 'A2T7G0C1',\n",
       "       'A2T7G1C0', 'A2T8G0C0', 'A3T0G0C7', 'A3T0G1C6', 'A3T0G2C5',\n",
       "       'A3T0G3C4', 'A3T0G4C3', 'A3T0G5C2', 'A3T0G6C1', 'A3T0G7C0',\n",
       "       'A3T1G0C6', 'A3T1G1C5', 'A3T1G2C4', 'A3T1G3C3', 'A3T1G4C2',\n",
       "       'A3T1G5C1', 'A3T1G6C0', 'A3T2G0C5', 'A3T2G1C4', 'A3T2G2C3',\n",
       "       'A3T2G3C2', 'A3T2G4C1', 'A3T2G5C0', 'A3T3G0C4', 'A3T3G1C3',\n",
       "       'A3T3G2C2', 'A3T3G3C1', 'A3T3G4C0', 'A3T4G0C3', 'A3T4G1C2',\n",
       "       'A3T4G2C1', 'A3T4G3C0', 'A3T5G0C2', 'A3T5G1C1', 'A3T5G2C0',\n",
       "       'A3T6G0C1', 'A3T6G1C0', 'A3T7G0C0', 'A4T0G0C6', 'A4T0G1C5',\n",
       "       'A4T0G2C4', 'A4T0G3C3', 'A4T0G4C2', 'A4T0G5C1', 'A4T0G6C0',\n",
       "       'A4T1G0C5', 'A4T1G1C4', 'A4T1G2C3', 'A4T1G3C2', 'A4T1G4C1',\n",
       "       'A4T1G5C0', 'A4T2G0C4', 'A4T2G1C3', 'A4T2G2C2', 'A4T2G3C1',\n",
       "       'A4T2G4C0', 'A4T3G0C3', 'A4T3G1C2', 'A4T3G2C1', 'A4T3G3C0',\n",
       "       'A4T4G0C2', 'A4T4G1C1', 'A4T4G2C0', 'A4T5G0C1', 'A4T5G1C0',\n",
       "       'A4T6G0C0', 'A5T0G0C5', 'A5T0G1C4', 'A5T0G2C3', 'A5T0G3C2',\n",
       "       'A5T0G4C1', 'A5T0G5C0', 'A5T1G0C4', 'A5T1G1C3', 'A5T1G2C2',\n",
       "       'A5T1G3C1', 'A5T1G4C0', 'A5T2G0C3', 'A5T2G1C2', 'A5T2G2C1',\n",
       "       'A5T2G3C0', 'A5T3G0C2', 'A5T3G1C1', 'A5T3G2C0', 'A5T4G0C1',\n",
       "       'A5T4G1C0', 'A5T5G0C0', 'A6T0G0C4', 'A6T0G1C3', 'A6T0G2C2',\n",
       "       'A6T0G3C1', 'A6T0G4C0', 'A6T1G0C3', 'A6T1G1C2', 'A6T1G2C1',\n",
       "       'A6T1G3C0', 'A6T2G0C2', 'A6T2G1C1', 'A6T2G2C0', 'A6T3G0C1',\n",
       "       'A6T3G1C0', 'A6T4G0C0', 'A7T0G0C3', 'A7T0G1C2', 'A7T0G2C1',\n",
       "       'A7T0G3C0', 'A7T1G0C2', 'A7T1G1C1', 'A7T1G2C0', 'A7T2G0C1',\n",
       "       'A7T2G1C0', 'A7T3G0C0', 'A8T0G0C2', 'A8T0G1C1', 'A8T0G2C0',\n",
       "       'A8T1G0C1', 'A8T1G1C0', 'A8T2G0C0', 'A9T0G0C1', 'A9T0G1C0',\n",
       "       'A9T1G0C0', 'A10T0G0C0', 'target'], dtype=object)"
      ]
     },
     "execution_count": 17,
     "metadata": {},
     "output_type": "execute_result"
    }
   ],
   "source": [
    "df_GATC.columns.values"
   ]
  },
  {
   "cell_type": "code",
   "execution_count": 18,
   "metadata": {},
   "outputs": [
    {
     "data": {
      "text/plain": [
       "False"
      ]
     },
     "execution_count": 18,
     "metadata": {},
     "output_type": "execute_result"
    }
   ],
   "source": [
    "df_GATC.isnull().values.any()"
   ]
  },
  {
   "cell_type": "code",
   "execution_count": 19,
   "metadata": {},
   "outputs": [
    {
     "data": {
      "text/plain": [
       "row_id         int64\n",
       "A0T0G0C10    float64\n",
       "A0T0G1C9     float64\n",
       "A0T0G2C8     float64\n",
       "A0T0G3C7     float64\n",
       "              ...   \n",
       "A9T0G0C1     float64\n",
       "A9T0G1C0     float64\n",
       "A9T1G0C0     float64\n",
       "A10T0G0C0    float64\n",
       "target        object\n",
       "Length: 288, dtype: object"
      ]
     },
     "execution_count": 19,
     "metadata": {},
     "output_type": "execute_result"
    }
   ],
   "source": [
    "df_GATC.dtypes"
   ]
  },
  {
   "cell_type": "code",
   "execution_count": 20,
   "metadata": {},
   "outputs": [
    {
     "name": "stdout",
     "output_type": "stream",
     "text": [
      "[[7638   19   46   56   44   11   26   46   92   66]\n",
      " [  24 7791   54    9    1    6    7  175   18   22]\n",
      " [  56   45 7508   10   10    9   11   74   89  121]\n",
      " [  50    8   21 7500  143   51   79    6   21   15]\n",
      " [  70    4   22  225 7539   61   74   14   12   10]\n",
      " [  22    2    9   91   78 7627   82    1    8    1]\n",
      " [  47    9   27  175  134   97 7558    8    9   10]\n",
      " [  27  199  100   22    6    2   11 7517   43   34]\n",
      " [  95   45  179   28   28    8   20   47 7491   91]\n",
      " [  75   45  226   20   36    1   16   94  121 7369]]\n",
      "                          precision    recall  f1-score   support\n",
      "\n",
      "    Bacteroides_fragilis       0.94      0.95      0.95      8044\n",
      "    Campylobacter_jejuni       0.95      0.96      0.96      8107\n",
      "      Enterococcus_hirae       0.92      0.95      0.93      7933\n",
      "        Escherichia_coli       0.92      0.95      0.94      7894\n",
      "  Escherichia_fergusonii       0.94      0.94      0.94      8031\n",
      "   Klebsiella_pneumoniae       0.97      0.96      0.97      7921\n",
      "     Salmonella_enterica       0.96      0.94      0.95      8074\n",
      "   Staphylococcus_aureus       0.94      0.94      0.94      7961\n",
      "Streptococcus_pneumoniae       0.95      0.93      0.94      8032\n",
      "  Streptococcus_pyogenes       0.95      0.92      0.94      8003\n",
      "\n",
      "                accuracy                           0.94     80000\n",
      "               macro avg       0.94      0.94      0.94     80000\n",
      "            weighted avg       0.94      0.94      0.94     80000\n",
      "\n"
     ]
    }
   ],
   "source": [
    "# Import necessary modules\n",
    "X = df_GATC.drop(columns =['target', 'row_id']).values\n",
    "y = df_GATC['target'].values\n",
    "\n",
    "# Create training and test set\n",
    "X_train, X_test, y_train, y_test = train_test_split(X, y, test_size = 0.4, random_state=42)\n",
    "\n",
    "# Instantiate a k-NN classifier: knn\n",
    "knn = KNeighborsClassifier(n_neighbors=6)\n",
    "\n",
    "# Fit the classifier to the training data\n",
    "knn.fit(X_train, y_train)\n",
    "\n",
    "# Predict the labels of the test data: y_pred\n",
    "y_pred = knn.predict(X_test)\n",
    "\n",
    "# Generate the confusion matrix and classification report\n",
    "print(confusion_matrix(y_test, y_pred))\n",
    "print(classification_report(y_test, y_pred))\n"
   ]
  },
  {
   "cell_type": "code",
   "execution_count": 21,
   "metadata": {},
   "outputs": [],
   "source": [
    "mat=confusion_matrix(y_test, y_pred)\n",
    "numpy.savetxt(\"prediction.csv\", mat, delimiter=\",\")"
   ]
  }
 ],
 "metadata": {
  "interpreter": {
   "hash": "85cff8d051be13cf7d3b43df90ccc202a486893d031d03bdd502366611ed510d"
  },
  "kernelspec": {
   "display_name": "Python 3.10.2 64-bit (windows store)",
   "language": "python",
   "name": "python3"
  },
  "language_info": {
   "codemirror_mode": {
    "name": "ipython",
    "version": 3
   },
   "file_extension": ".py",
   "mimetype": "text/x-python",
   "name": "python",
   "nbconvert_exporter": "python",
   "pygments_lexer": "ipython3",
   "version": "3.10.2"
  },
  "orig_nbformat": 4
 },
 "nbformat": 4,
 "nbformat_minor": 2
}
